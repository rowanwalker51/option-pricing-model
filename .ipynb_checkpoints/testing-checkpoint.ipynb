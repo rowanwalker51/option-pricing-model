{
 "cells": [
  {
   "cell_type": "code",
   "execution_count": 1,
   "id": "65d0d53e-3137-44c5-8740-4ae009eefd5a",
   "metadata": {},
   "outputs": [],
   "source": [
    "from option_pricing import AmericanOption"
   ]
  },
  {
   "cell_type": "code",
   "execution_count": 10,
   "id": "eb939ed7-8492-44be-945b-d6612b50852f",
   "metadata": {},
   "outputs": [
    {
     "data": {
      "text/plain": [
       "10.0035"
      ]
     },
     "execution_count": 10,
     "metadata": {},
     "output_type": "execute_result"
    }
   ],
   "source": [
    "AmericanOption(S0=100, K=100, r=.04, T=1, sigma=.2).price_lsm(steps=100)"
   ]
  },
  {
   "cell_type": "code",
   "execution_count": null,
   "id": "e41dda9d-9164-49f2-a6b2-b38b469bad01",
   "metadata": {},
   "outputs": [],
   "source": []
  }
 ],
 "metadata": {
  "kernelspec": {
   "display_name": "Python Rowan",
   "language": "python",
   "name": "rowan-env"
  },
  "language_info": {
   "codemirror_mode": {
    "name": "ipython",
    "version": 3
   },
   "file_extension": ".py",
   "mimetype": "text/x-python",
   "name": "python",
   "nbconvert_exporter": "python",
   "pygments_lexer": "ipython3",
   "version": "3.13.7"
  }
 },
 "nbformat": 4,
 "nbformat_minor": 5
}
