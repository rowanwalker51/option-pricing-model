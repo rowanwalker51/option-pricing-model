{
 "cells": [
  {
   "cell_type": "code",
   "execution_count": 1,
   "id": "65d0d53e-3137-44c5-8740-4ae009eefd5a",
   "metadata": {},
   "outputs": [],
   "source": [
    "from option_pricing import AmericanOption"
   ]
  },
  {
   "cell_type": "code",
   "execution_count": 2,
   "id": "ac719736-6c18-42bf-afbf-33630e249118",
   "metadata": {},
   "outputs": [
    {
     "ename": "NameError",
     "evalue": "name 'AmericanOption' is not defined",
     "output_type": "error",
     "traceback": [
      "\u001b[31m---------------------------------------------------------------------------\u001b[39m",
      "\u001b[31mNameError\u001b[39m                                 Traceback (most recent call last)",
      "\u001b[36mCell\u001b[39m\u001b[36m \u001b[39m\u001b[32mIn[2]\u001b[39m\u001b[32m, line 1\u001b[39m\n\u001b[32m----> \u001b[39m\u001b[32m1\u001b[39m test_option = \u001b[43mAmericanOption\u001b[49m(S0=\u001b[32m100\u001b[39m,\n\u001b[32m      2\u001b[39m                              K=\u001b[32m120\u001b[39m,\n\u001b[32m      3\u001b[39m                              r=\u001b[32m.04\u001b[39m,\n\u001b[32m      4\u001b[39m                              T=\u001b[32m1\u001b[39m,\n\u001b[32m      5\u001b[39m                              sigma=\u001b[32m.2\u001b[39m)\n",
      "\u001b[31mNameError\u001b[39m: name 'AmericanOption' is not defined"
     ]
    }
   ],
   "source": [
    "test_option = op.AmericanOption(S0=100,\n",
    "                             K=120,\n",
    "                             r=.04,\n",
    "                             T=1,\n",
    "                             sigma=.2)"
   ]
  },
  {
   "cell_type": "code",
   "execution_count": null,
   "id": "ee2b2b8c-565b-4cdc-9111-b3b5dba114bd",
   "metadata": {},
   "outputs": [],
   "source": []
  }
 ],
 "metadata": {
  "kernelspec": {
   "display_name": "Python Rowan",
   "language": "python",
   "name": "rowan-env"
  },
  "language_info": {
   "codemirror_mode": {
    "name": "ipython",
    "version": 3
   },
   "file_extension": ".py",
   "mimetype": "text/x-python",
   "name": "python",
   "nbconvert_exporter": "python",
   "pygments_lexer": "ipython3",
   "version": "3.13.7"
  }
 },
 "nbformat": 4,
 "nbformat_minor": 5
}
